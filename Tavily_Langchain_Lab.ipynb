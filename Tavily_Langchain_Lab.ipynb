{
 "cells": [
  {
   "cell_type": "markdown",
   "id": "41222d77",
   "metadata": {},
   "source": [
    "# LAB: Practice with Tavily + LangChain Agents\n",
    "\n",
    "### Objective\n",
    "Reinforce your understanding of LangChain agents integrated with Tavily for real-time web search by solving two open-ended tasks. You'll:\n",
    "- Load and configure a LangChain agent with Tavily\n",
    "- Build effective prompts\n",
    "- Generate structured, useful outputs from real-time data"
   ]
  },
  {
   "cell_type": "markdown",
   "id": "baadf072",
   "metadata": {},
   "source": [
    "### Setup"
   ]
  },
  {
   "cell_type": "code",
   "execution_count": 2,
   "id": "cafe37d8",
   "metadata": {},
   "outputs": [],
   "source": [
    "import os\n",
    "from langchain.agents import initialize_agent, AgentType, Tool\n",
    "from langchain.chat_models import ChatOpenAI\n",
    "from langchain.tools.tavily_search import TavilySearchResults\n",
    "import tiktoken\n",
    "from IPython.display import Markdown, display\n",
    "from  dotenv import load_dotenv\n",
    "import warnings\n",
    "warnings.filterwarnings('ignore')\n",
    "from langchain.tools.tavily_search import TavilySearchResults\n",
    "\n",
    "load_dotenv()\n",
    "tavily_search = TavilySearchResults()\n",
    "\n",
    "# LLM + Encoding\n",
    "llm = ChatOpenAI(model=\"gpt-4\", temperature=0)\n",
    "encoding = tiktoken.encoding_for_model(\"gpt-4\")\n",
    "\n",
    "# Safe Tavily wrapper\n",
    "def safe_search(query: str) -> str:\n",
    "    result = tavily_search.run(query)\n",
    "\n",
    "    # Ensure result is a string — Tavily returns dict with 'snippets' sometimes\n",
    "    if isinstance(result, dict):\n",
    "        result_text = result.get(\"content\", \"\") or str(result)\n",
    "    else:\n",
    "        result_text = str(result)\n",
    "\n",
    "    tokens = encoding.encode(result_text)\n",
    "    trimmed = encoding.decode(tokens[:3500])  # leave room for GPT-4 response\n",
    "    return trimmed\n",
    "\n",
    "\n",
    "# LangChain tool\n",
    "tools = [Tool(name=\"TavilySafeSearch\", func=safe_search, description=\"Web search tool\")]\n",
    "agent = initialize_agent(tools=tools, llm=llm, agent=AgentType.ZERO_SHOT_REACT_DESCRIPTION, verbose=True)"
   ]
  },
  {
   "cell_type": "markdown",
   "id": "5089593a",
   "metadata": {},
   "source": [
    "### Exercise 1: AI in Healthcare\n",
    "\n",
    "Goal: Investigate and summarize the latest advancements in generative AI applied to healthcare in 2025.\n",
    "\n",
    "- Design a prompt that asks the agent to retrieve the most recent updates.\n",
    "- Ensure the agent outputs a structured response in Markdown."
   ]
  },
  {
   "cell_type": "code",
   "execution_count": 3,
   "id": "f882ac3f",
   "metadata": {},
   "outputs": [
    {
     "name": "stdout",
     "output_type": "stream",
     "text": [
      "\n",
      "\n",
      "\u001b[1m> Entering new AgentExecutor chain...\u001b[0m\n",
      "\u001b[32;1m\u001b[1;3mI need to search for the most recent advancements in AI applied to healthcare. I will use the TavilySafeSearch tool to find this information.\n",
      "Action: TavilySafeSearch\n",
      "Action Input: Most recent advancements in AI applied to healthcare\u001b[0m\n",
      "Observation: \u001b[36;1m\u001b[1;3m[{'title': '2025 Watch List: Artificial Intelligence in Health Care - NCBI Bookshelf', 'url': 'https://www.ncbi.nlm.nih.gov/books/NBK613808/', 'content': 'These are only a small sample of the exciting developments in the uses of AI for health care. Advancements in the development and training of LLMs (such as GPT-4o which ChatGPT is based on) along with significant financial investment are accelerating the pace of innovation in Canada and abroad. According to a 2023 report by the Commonwealth Fund, Canada’s annual health care spending has steadily increased as a percentage of the gross domestic product since 1980; health care spending now makes [...] The 2025 Watch List identifies and describes the top 5 new and emerging AI technologies in health care. Examples include AI for notetaking and AI for disease detection and diagnosis. We also explore some considerations for health care decision-makers about the impact these technologies may have on health human resources, health care infrastructure, and health equity. [...] (e.g., Overjet Image Enhancement Assist), cardiology (e.g., EchoGo Heart Failure 2.0), neurology (e.g., BrainSee), hematology (e.g., AI-4510 Urine Particle Analysis System), and gastroenterology and urology (e.g., EndoScreener).64', 'score': 0.72675586}, {'title': 'Revolutionizing healthcare: the role of artificial intelligence in clinical ...', 'url': 'https://bmcmededuc.biomedcentral.com/articles/10.1186/s12909-023-04698-z', 'content': 'One of the emerging applications of AI is patient education . AI-powered chatbots are being implemented in various healthcare contexts, such as diet recommendations [95 for weight loss: scoping review and practical recommendations. JMIR Med Inform. 2022;10(4):e32578. \\n                  \\n                  \\n                .\"), 96:e22845. \\n                  \\n                  \\n                .\")], smoking cessation, and cognitive-behavioral therapy [97:e261. [...] AI would propose a new support system to assist practical decision-making tools for healthcare providers. In recent years, healthcare institutions have provided a greater leveraging capacity of utilizing automation-enabled technologies to boost workflow effectiveness and reduce costs while promoting patient safety, accuracy, and efficiency [77:312–5.\")]. By introducing advanced technologies like NLP, ML, and data analytics, AI can significantly provide real-time, accurate, and up-to-date [...] The integration of AI in healthcare has immense potential to revolutionize patient care and outcomes. AI-driven predictive analytics can enhance the accuracy, efficiency, and cost-effectiveness of disease diagnosis and clinical laboratory testing. Additionally, AI can aid in population health management and guideline establishment, providing real-time, accurate information and optimizing medication choices. Integrating AI in virtual health and mental health support has shown promise in', 'score': 0.6882385}, {'title': 'An Overview of 2025 AI Trends in Healthcare - HealthTech Magazine', 'url': 'https://healthtechmagazine.net/article/2025/01/overview-2025-ai-trends-healthcare', 'content': 'Adding cameras, sensors and microphones to patient rooms enables healthcare organizations to collect more data that can be analyzed by AI platforms to improve care. For example, cameras can detect when a patient has turned over in bed, and the platform can alert care team members that they don’t need to turn the patient manually. Some cameras can also detect when a patient is getting up and alert staff so they can prevent a fall. [...] Some healthcare organizations are beginning to experiment with retrieval-augmented generation. RAG is an AI framework that combines traditional vector database capabilities with LLMs. In other words, users get the benefits of a generative AI-powered chatbot that can access an organization’s more accurate and recent data.\\n\\nRAG allows the organization’s chatbot to produce better answers for staff in Q&A applications. This reduces some of the pitfalls of using generative AI tools. [...] Many organizations are already going down the AI path with ambient listening, which are machine learning-powered audio solutions. Used by physicians initially before being expanded to nurses, the voice-recognition technology listens to and analyzes patient-provider conversations in real time, then extracts the relevant information for use in clinical notes, meeting billing and coding requirements. This enables clinicians to focus on the patient rather than having to multitask to complete', 'score': 0.64020914}, {'title': 'Application of Artificial Intelligence in Medicine: An Overview - PMC', 'url': 'https://pmc.ncbi.nlm.nih.gov/articles/PMC8648557/', 'content': 'In addition, AI technology has also played a crucial role in medical drug production, medical management, and medical education, taking them into a new', 'score': 0.41179726}, {'title': '7 ways AI is transforming healthcare - The World Economic Forum', 'url': 'https://www.weforum.org/stories/2025/08/ai-transforming-global-health/', 'content': 'The global TCIM market is expected to reach nearly $600 billion in 2025 - and AI looks set to accelerate that market further and faster. The', 'score': 0.3804832}]\u001b[0m\n",
      "Thought:\u001b[32;1m\u001b[1;3mBased on the search results, there are several advancements in AI applied to healthcare. These include the use of AI for note-taking and disease detection, the implementation of AI-powered chatbots for patient education, the use of AI in patient room monitoring, and the application of retrieval-augmented generation (RAG) in healthcare organizations. I will structure this information in a markdown format.\n",
      "Final Answer: \n",
      "# Recent Advancements in AI Applied to Healthcare\n",
      "\n",
      "## 1. AI for Note-taking and Disease Detection\n",
      "AI is being used for note-taking and disease detection in various medical fields such as cardiology, neurology, hematology, gastroenterology, and urology. Examples include EchoGo Heart Failure 2.0 for cardiology and AI-4510 Urine Particle Analysis System for hematology. [^1^]\n",
      "\n",
      "## 2. AI-Powered Chatbots for Patient Education\n",
      "AI-powered chatbots are being implemented in various healthcare contexts, such as diet recommendations, smoking cessation, and cognitive-behavioral therapy. These chatbots provide a new support system to assist practical decision-making tools for healthcare providers. [^2^]\n",
      "\n",
      "## 3. AI in Patient Room Monitoring\n",
      "Healthcare organizations are adding cameras, sensors, and microphones to patient rooms to collect more data that can be analyzed by AI platforms to improve care. For example, cameras can detect when a patient has turned over in bed, and the platform can alert care team members that they don’t need to turn the patient manually. [^3^]\n",
      "\n",
      "## 4. Retrieval-Augmented Generation (RAG) in Healthcare Organizations\n",
      "Healthcare organizations are beginning to experiment with retrieval-augmented generation. RAG is an AI framework that combines traditional vector database capabilities with LLMs. This allows the organization’s chatbot to produce better answers for staff in Q&A applications. [^3^]\n",
      "\n",
      "[^1^]: [2025 Watch List: Artificial Intelligence in Health Care - NCBI Bookshelf](https://www.ncbi.nlm.nih.gov/books/NBK613808/)\n",
      "[^2^]: [Revolutionizing healthcare: the role of artificial intelligence in clinical ...](https://bmcmededuc.biomedcentral.com/articles/10.1186/s12909-023-04698-z)\n",
      "[^3^]: [An Overview of 2025 AI Trends in Healthcare - HealthTech Magazine](https://healthtechmagazine.net/article/2025/01/overview-2025-ai-trends-healthcare)\u001b[0m\n",
      "\n",
      "\u001b[1m> Finished chain.\u001b[0m\n"
     ]
    }
   ],
   "source": [
    "# Your prompt here\n",
    "prompt_1 = \"Give me a summary about the most recent advancements in AI applied to healthcare. Give me a structured response in Markdown\"\n",
    "\n",
    "# Run it\n",
    "response_1 = agent.run(prompt_1)\n"
   ]
  },
  {
   "cell_type": "code",
   "execution_count": 4,
   "id": "0c70b057",
   "metadata": {},
   "outputs": [
    {
     "data": {
      "text/markdown": [
       "# Recent Advancements in AI Applied to Healthcare\n",
       "\n",
       "## 1. AI for Note-taking and Disease Detection\n",
       "AI is being used for note-taking and disease detection in various medical fields such as cardiology, neurology, hematology, gastroenterology, and urology. Examples include EchoGo Heart Failure 2.0 for cardiology and AI-4510 Urine Particle Analysis System for hematology. [^1^]\n",
       "\n",
       "## 2. AI-Powered Chatbots for Patient Education\n",
       "AI-powered chatbots are being implemented in various healthcare contexts, such as diet recommendations, smoking cessation, and cognitive-behavioral therapy. These chatbots provide a new support system to assist practical decision-making tools for healthcare providers. [^2^]\n",
       "\n",
       "## 3. AI in Patient Room Monitoring\n",
       "Healthcare organizations are adding cameras, sensors, and microphones to patient rooms to collect more data that can be analyzed by AI platforms to improve care. For example, cameras can detect when a patient has turned over in bed, and the platform can alert care team members that they don’t need to turn the patient manually. [^3^]\n",
       "\n",
       "## 4. Retrieval-Augmented Generation (RAG) in Healthcare Organizations\n",
       "Healthcare organizations are beginning to experiment with retrieval-augmented generation. RAG is an AI framework that combines traditional vector database capabilities with LLMs. This allows the organization’s chatbot to produce better answers for staff in Q&A applications. [^3^]\n",
       "\n",
       "[^1^]: [2025 Watch List: Artificial Intelligence in Health Care - NCBI Bookshelf](https://www.ncbi.nlm.nih.gov/books/NBK613808/)\n",
       "[^2^]: [Revolutionizing healthcare: the role of artificial intelligence in clinical ...](https://bmcmededuc.biomedcentral.com/articles/10.1186/s12909-023-04698-z)\n",
       "[^3^]: [An Overview of 2025 AI Trends in Healthcare - HealthTech Magazine](https://healthtechmagazine.net/article/2025/01/overview-2025-ai-trends-healthcare)"
      ],
      "text/plain": [
       "<IPython.core.display.Markdown object>"
      ]
     },
     "metadata": {},
     "output_type": "display_data"
    }
   ],
   "source": [
    "display(Markdown(response_1))\n"
   ]
  },
  {
   "cell_type": "markdown",
   "id": "3eab2627",
   "metadata": {},
   "source": [
    "### Exercise 2: AI Startups Landscape\n",
    "\n",
    "Goal: Track 2025’s top emerging AI startups and their innovations.\n",
    "\n",
    "- Create a prompt that instructs the agent to deliver a clean Markdown summary.\n",
    "- Tip: Ask for company names, product highlights, and sources."
   ]
  },
  {
   "cell_type": "code",
   "execution_count": 5,
   "id": "2109cbad",
   "metadata": {},
   "outputs": [
    {
     "name": "stdout",
     "output_type": "stream",
     "text": [
      "\n",
      "\n",
      "\u001b[1m> Entering new AgentExecutor chain...\u001b[0m\n",
      "\u001b[32;1m\u001b[1;3mTo answer this question, I need to search for information about the top emerging AI startups in 2025 and their innovations. Since it's currently impossible to predict the future, I will instead look for predictions or forecasts about this topic.\n",
      "Action: TavilySafeSearch\n",
      "Action Input: Predictions for top emerging AI startups in 2025\u001b[0m\n",
      "Observation: \u001b[36;1m\u001b[1;3m[{'title': 'Top AI Startups in 2025', 'url': 'https://www.startupblink.com/blog/top-ai-startups/', 'content': 'OpenAI continues to be one of the most dominant AI companies globally in 2025. Based in San Francisco, it remains at the forefront of artificial intelligence development thanks to its widely adopted GPT models and integrations across Microsoft products. While ByteDance remains highly valued and influential, OpenAI’s central role in shaping the AI ecosystem has only grown, reinforcing its position as the most influential AI-first startup in the world today. [...] ### 4. Bytedance\\n\\nSB Score: 768\\n\\nLocation: Beijing, China\\n\\nByteDance is a global technology company best known for developing TikTok and its Chinese counterpart Douyin, both powered by advanced AI-driven recommendation algorithms. Founded in 2012, the company has since evolved into one of the world’s most valuable startups, leveraging artificial intelligence across content discovery, personalization, and user engagement. [...] Cloud). As of mid‑June 2025, xAI is negotiating a significant funding round— circa $4.3 billion in equity atop $5 billion in debt—at an estimated valuation of $80 billion, reinforcing its position among the most well-funded AI startups globally.', 'score': 0.90830135}, {'title': '18 AI Startups to Watch in 2025', 'url': 'https://backlinko.com/ai-startups', 'content': 'Artificial intelligence has become one of the key technologies reshaping the way we search for information, work with automating repetitive tasks, study with AI-powered tutors, and more.\\n\\nAI remains one of the dominant themes of venture capital investing and millions of users engage regularly with a growing number of AI apps.\\n\\nHere’s a curated list of 18 growing AI startups to look out for in 2025.\\n\\nLet’s dive right in!\\n\\n## 1. VEED\\n\\nWebsite: \\n\\nYear founded: 2018\\n\\nHQ: London, United Kingdom [...] Description: Harvey is a legal tech startup that offers an AI-powered assistant to legal professionals. The company’s software helps with common tasks from legal research to document drafting.\\n\\n## 14. Liner\\n\\nWebsite: \\n\\nYear founded: 2012\\n\\nHQ: Seoul, South Korea\\n\\nUsers: 10 million\\n\\nFunding: $9 million [...] Description: Codeium offers “ChatGPT for developers”, an AI tool that provides developers with autocomplete code suggestions, and answers code-related questions via chat functionality. AI startup Codeium reached a $1.25 billion valuation after securing $150 million in Series C funding in August 2024.\\n\\n## 5. Suno\\n\\nWebsite: \\n\\nYear founded: 2022\\n\\nHQ: Cambridge, Massachusetts\\n\\nUsers: 12 million\\n\\nFunding: $125 million', 'score': 0.8724455}, {'title': 'The State of AI 2025 - Bessemer Venture Partners', 'url': 'https://www.bvp.com/atlas/the-state-of-ai-2025', 'content': \"State-of-the-art open-source models like Kimi, DeepSeek, Qwen, Mixtral, and Llama also continue to demonstrate that the open ecosystem can still punch above its weight, often matching or exceeding proprietary models in efficiency and specialized tasks. [...] Beyond its emerging role as a superior assistant, AI is also lowering the barrier to creation turning every consumer into a potential creator. Consumers are building apps with tools like Create.xyz, Bolt, and Lovable, generating music with Suno and Udio, producing multimedia with platforms such as Moonvalley, Runway, and Black Forest Labs, and accelerating ideation and iteration with tools like FLORA, Visual Electric, ComfyUIand Krea. AI is transforming everyday consumers into creators, pushing [...] Let's start with the obvious: a handful of players such as OpenAI, Anthropic, Gemini, Llama and xAI continue to dominate the foundation model landscape, advancing model performance, while simultaneously exploring vertical integration. It’s clear now that big labs are moving beyond offering just foundation models and tooling for model development—these labs are now rolling out agents for coding, computer use, and MCP integrations. Meanwhile, compute costs continue to drop predictably—driven by\", 'score': 0.8585411}, {'title': '2025 AI Business Predictions - PwC', 'url': 'https://www.pwc.com/us/en/tech-effect/ai-analytics/ai-predictions.html', 'content': 'The use of AI in 2025 should be accelerated by a more flexible regulatory environment. The new administration is likely to shift oversight in this sector toward self-governance, creating more space for innovation. Pharmaceutical and medtech companies will be in the forefront of using AI to revolutionize their value chains, especially for drug and product development. Health payers and providers will deploy more AI applications to optimize revenue and volume and to help fill clinical labor [...] control models in ways that position them to benefit at an accelerated pace. While AI native startups and large financial institutions continue to progress their strategies, there is a risk that firms that continue to evaluate their entry strategy will begin to fall behind noticeably starting in 2025. [...] with other technologies like machine learning and digital twins — boosting their own AI capabilities and reducing their dependence on traditional partners.', 'score': 0.84027237}, {'title': 'Forbes 2025 AI 50 List - Top Artificial Intelligence ...', 'url': 'https://www.forbes.com/lists/ai50/', 'content': 'valuation of about $9 billion. Meanwhile, Fei Fei Li, known as the “godmother of AI”, has launched her own startup too, World Labs ($291.5 million raised), to develop models that can understand physical spaces. And then there’s enterprise AI company Writer ($326 million raised), which is training its own models to handle mundane business tasks like writing marketing blogs and searching through troves of documents. (Read our feature story on Writer here.)   Artificial intelligence companies [...] , a three year-old AI startup that helps engineers write and edit code and has at least $100 million in annualized revenue; the $1 billion-valued AI language tutor app Speak, which is used by some 10 million people to learn English and Spanish; and Massachusetts-based unicorn OpenEvidence, which is building an AI-powered search platform that summarizes medical information for doctors.   Model builders like OpenAI and Anthropic remain the biggest companies on the list, having raised large sums', 'score': 0.82761955}]\u001b[0m\n",
      "Thought:\u001b[32;1m\u001b[1;3mThe search results provide a list of AI startups that are predicted to be top performers in 2025. These include OpenAI, ByteDance, xAI, VEED, Harvey, Liner, Codeium, Suno, Kimi, DeepSeek, Qwen, Mixtral, Llama, Create.xyz, Bolt, Lovable, Suno, Udio, Moonvalley, Runway, Black Forest Labs, FLORA, Visual Electric, ComfyUI, Krea, Anthropic, Gemini, Llama, World Labs, Writer, Speak, and OpenEvidence. I will now summarize the information about these startups and their innovations.\n",
      "Final Answer: \n",
      "# Top Emerging AI Startups in 2025\n",
      "\n",
      "1. **OpenAI**: Based in San Francisco, OpenAI continues to be one of the most dominant AI companies globally in 2025, thanks to its widely adopted GPT models and integrations across Microsoft products.\n",
      "\n",
      "2. **ByteDance**: Known for developing TikTok and its Chinese counterpart Douyin, ByteDance leverages artificial intelligence across content discovery, personalization, and user engagement.\n",
      "\n",
      "3. **xAI**: As of mid‑June 2025, xAI is negotiating a significant funding round, reinforcing its position among the most well-funded AI startups globally.\n",
      "\n",
      "4. **VEED**: A growing AI startup to look out for in 2025.\n",
      "\n",
      "5. **Harvey**: A legal tech startup that offers an AI-powered assistant to legal professionals.\n",
      "\n",
      "6. **Liner**: An AI startup with 10 million users and $9 million in funding.\n",
      "\n",
      "7. **Codeium**: Offers “ChatGPT for developers”, an AI tool that provides developers with autocomplete code suggestions, and answers code-related questions via chat functionality.\n",
      "\n",
      "8. **Suno**: An AI startup with 12 million users and $125 million in funding.\n",
      "\n",
      "9. **Kimi, DeepSeek, Qwen, Mixtral, Llama**: These open-source models continue to demonstrate efficiency and specialized tasks.\n",
      "\n",
      "10. **Create.xyz, Bolt, Lovable, Suno, Udio, Moonvalley, Runway, Black Forest Labs, FLORA, Visual Electric, ComfyUI, Krea**: These AI tools are transforming everyday consumers into creators.\n",
      "\n",
      "11. **Anthropic, Gemini, Llama**: These companies continue to dominate the foundation model landscape, advancing model performance.\n",
      "\n",
      "12. **World Labs**: Developing models that can understand physical spaces.\n",
      "\n",
      "13. **Writer**: Training its own models to handle mundane business tasks like writing marketing blogs and searching through troves of documents.\n",
      "\n",
      "14. **Speak**: An AI language tutor app used by some 10 million people to learn English and Spanish.\n",
      "\n",
      "15. **OpenEvidence**: Building an AI-powered search platform that summarizes medical information for doctors.\u001b[0m\n",
      "\n",
      "\u001b[1m> Finished chain.\u001b[0m\n"
     ]
    }
   ],
   "source": [
    "# Your prompt here\n",
    "prompt_2 = \"Goal: Track 2025’s top emerging AI startups and their innovations. Deliver a clean Markdown summary.\"\n",
    "\n",
    "# Run it\n",
    "response_2 = agent.run(prompt_2)\n"
   ]
  },
  {
   "cell_type": "code",
   "execution_count": 6,
   "id": "6504bd84",
   "metadata": {},
   "outputs": [
    {
     "data": {
      "text/markdown": [
       "# Top Emerging AI Startups in 2025\n",
       "\n",
       "1. **OpenAI**: Based in San Francisco, OpenAI continues to be one of the most dominant AI companies globally in 2025, thanks to its widely adopted GPT models and integrations across Microsoft products.\n",
       "\n",
       "2. **ByteDance**: Known for developing TikTok and its Chinese counterpart Douyin, ByteDance leverages artificial intelligence across content discovery, personalization, and user engagement.\n",
       "\n",
       "3. **xAI**: As of mid‑June 2025, xAI is negotiating a significant funding round, reinforcing its position among the most well-funded AI startups globally.\n",
       "\n",
       "4. **VEED**: A growing AI startup to look out for in 2025.\n",
       "\n",
       "5. **Harvey**: A legal tech startup that offers an AI-powered assistant to legal professionals.\n",
       "\n",
       "6. **Liner**: An AI startup with 10 million users and $9 million in funding.\n",
       "\n",
       "7. **Codeium**: Offers “ChatGPT for developers”, an AI tool that provides developers with autocomplete code suggestions, and answers code-related questions via chat functionality.\n",
       "\n",
       "8. **Suno**: An AI startup with 12 million users and $125 million in funding.\n",
       "\n",
       "9. **Kimi, DeepSeek, Qwen, Mixtral, Llama**: These open-source models continue to demonstrate efficiency and specialized tasks.\n",
       "\n",
       "10. **Create.xyz, Bolt, Lovable, Suno, Udio, Moonvalley, Runway, Black Forest Labs, FLORA, Visual Electric, ComfyUI, Krea**: These AI tools are transforming everyday consumers into creators.\n",
       "\n",
       "11. **Anthropic, Gemini, Llama**: These companies continue to dominate the foundation model landscape, advancing model performance.\n",
       "\n",
       "12. **World Labs**: Developing models that can understand physical spaces.\n",
       "\n",
       "13. **Writer**: Training its own models to handle mundane business tasks like writing marketing blogs and searching through troves of documents.\n",
       "\n",
       "14. **Speak**: An AI language tutor app used by some 10 million people to learn English and Spanish.\n",
       "\n",
       "15. **OpenEvidence**: Building an AI-powered search platform that summarizes medical information for doctors."
      ],
      "text/plain": [
       "<IPython.core.display.Markdown object>"
      ]
     },
     "metadata": {},
     "output_type": "display_data"
    }
   ],
   "source": [
    "display(Markdown(response_2))\n"
   ]
  },
  {
   "cell_type": "markdown",
   "id": "942b8fda",
   "metadata": {},
   "source": [
    "### Exercice 3: Compare Two Tech Products\n",
    "- **Prompt idea:** Compare the key features, pricing, and reviews of OpenAI’s ChatGPT Team and Anthropic’s Claude Pro.\n",
    "- Ensure the agent outputs a structured response in Markdown.\n",
    "\n",
    "\n"
   ]
  },
  {
   "cell_type": "code",
   "execution_count": 7,
   "id": "58ff7f14",
   "metadata": {},
   "outputs": [
    {
     "name": "stdout",
     "output_type": "stream",
     "text": [
      "\n",
      "\n",
      "\u001b[1m> Entering new AgentExecutor chain...\u001b[0m\n",
      "\u001b[32;1m\u001b[1;3mI need to find information about the key features, pricing, and reviews of OpenAI’s ChatGPT Team and Anthropic’s Claude Pro. I will use the TavilySafeSearch tool to find this information.\n",
      "Action: TavilySafeSearch\n",
      "Action Input: OpenAI’s ChatGPT Team key features, pricing, and reviews\u001b[0m\n",
      "Observation: \u001b[36;1m\u001b[1;3m[{'title': 'Is ChatGPT Teams right for your business? An honest 2025 review', 'url': 'https://www.eesel.ai/blog/chatgpt-teams', 'content': '| Feature | ChatGPT Plus | ChatGPT Teams |\\n --- \\n| Price | $20/user/month | $30/user/month (monthly) or $25/user/month (annually) |\\n| Users | 1 | 2+ |\\n| Workspace | Personal | Shared Team Workspace |\\n| Admin Controls | No | Yes |\\n| Data Training | Opt-out available | Never trained on your data by default |\\n| Custom GPTs | Create for personal use | Create and share within workspace |\\n| Early Access | Often receives new features first | Can lag behind the Plus plan | [...] In a nutshell, ChatGPT Teams is OpenAI’s subscription plan for businesses. It used to be called ChatGPT Team and was later renamed from ChatGPT Business, but the goal is the same: give teams a secure, shared workspace to access OpenAI’s best AI models.\\n\\nIt’s built for company use, which makes it different from the personal ChatGPT Plus plan. Here’s what you get: [...] Access to the good stuff: Your team gets higher message limits on powerful models like GPT-4 and can use creative tools like DALL·E 3 more freely.\\n A private workspace: It provides a central hub with admin tools, so you can manage who’s on the team and handle billing in one place.\\n Your data stays yours: This is a big one for businesses. OpenAI promises they won’t use your conversations or company data from ChatGPT Teams to train their models.', 'score': 0.83549726}, {'title': 'ChatGPT Review: Is It Worth It in 2025? [In-Depth] | Team-GPT', 'url': 'https://team-gpt.com/blog/chatgpt-review', 'content': 'Team: Starts from $25/month/seat when billed annually, which gives you access to unlimited access to GPT-4o mini and a higher message limit on the other AI models.\\n Enterprise: A high-speed access to ChatGPT’s AI models, an expanded context window for longer inputs, enterprise-grade security, and admin controls.\\n\\n➡️ We dived deeper into ChatGPT’s pricing model to help you figure out if the platform’s pricing structure works for your use case.\\n\\nRating: 9/10. [...] Integrations: 8/10. ChatGPT’s custom GPTs are a good way of connecting ChatGPT to your productivity platforms.\\n Team collaboration: 6/10. The AI solution has above-average team collaboration capabilities, but not as good as alternatives on the market.\\n Pricing model: 9/10. ChatGPT offers a plan for everyone – from university students to enterprises. [...] ‘’The free version has limited capabilities, and even the Plus version has some restrictions, particularly in image generation and data analysis. When working with complex data, the responses occasionally lack accuracy, which can be frustrating.’’ – G2 Review.\\n\\n## Verdict: Is ChatGPT Really Worth It?\\n\\nSo far, I’ve rated ChatGPT:\\n\\n Range of features: 8/10.\\n User interface and usability: 9/10.\\n Security measures: 5/10.\\n Integrations: 8/10.\\n Team collaboration: 6/10.\\n Pricing model: 9/10.', 'score': 0.82728493}, {'title': 'ChatGPT Teams Pricing: Complete Guide for 2025 - Unleash.so', 'url': 'https://www.unleash.so/post/chatgpt-teams-pricing-complete-guide-for-2025-better-alternatives', 'content': \"Unleash provides a more comprehensive AI solution specifically designed for businesses that need more than basic chat functionality. While ChatGPT Teams pricing starts at $25/month per user, Unleash delivers enterprise-grade capabilities that address the core limitations businesses face with OpenAI's platform.\\n\\nKey advantages of Unleash vs ChatGPT Teams:\\n\\n### 1. Enterprise-Grade Security and Deployment Flexibility [...] Access to GPT-4 and GPT-4 Turbo models\\n Higher message limits (100 messages per 3 hours vs 40 for Plus)\\n Team workspace for collaboration\\n Admin console for user management\\n Early access to new features and models\\n Data exclusion from OpenAI model training\\n DALL-E 3 image generation capabilities\\n Advanced data analysis tools\\n Custom GPTs creation and sharing\\n\\nComplete ChatGPT pricing breakdown: [...] What's included in ChatGPT Teams pricing? The pricing includes GPT-4 access, higher message limits (100 per 3 hours), team workspace, admin console, early feature access, and data exclusion from training.\\n\\nHow does ChatGPT Teams pricing compare to ChatGPT Plus? ChatGPT Plus costs $20/month for individual use, while ChatGPT Teams costs $25-30/month but includes team collaboration features and admin controls.\", 'score': 0.76385427}, {'title': 'ChatGPT Pricing Guide: Plans, Features, and Alternatives', 'url': 'https://www.cloudeagle.ai/blogs/blog-chatgpt-pricing-guide', 'content': 'Team ($25–$30/user/month): Offers unlimited access to GPT-4o and 4.1-mini, plus generous usage limits for advanced models. Great for collaborative teams needing more scale.\\n Enterprise (Custom Pricing): Everything in Team, plus an expanded context window for GPT-4o. Supports longer inputs and larger file uploads, perfect for large-scale deployments with security and performance in mind. [...] Free: Limited access to GPT-4o-mini. Best for basic use and experimentation.\\n Plus ($20/month): Includes GPT-4o and access to multiple reasoning models, like OpenAI o3, o4-mini, and o4-mini-high. Also includes research previews of GPT-4.5 (OpenAI’s largest model yet) and GPT-4.1 (optimized for code).\\n Pro ($200/month): Unlocks unlimited access to all reasoning models and GPT-4o, ideal for power users who rely on speed, memory, and accuracy. [...] Cost: $200 per month\\n Best For: Developers and professionals requiring higher limits and premium tools\\n Features: Access to GPT-4o and o1-pro, extended token limits, advanced model settings, file uploads, API enhancements\\n Drawbacks: High price point, overkill for casual users\\n\\n### ChatGPT Team Plan', 'score': 0.7602419}, {'title': 'What is ChatGPT Business? - OpenAI Help Center', 'url': 'https://help.openai.com/en/articles/8792828-what-is-chatgpt-team', 'content': 'ChatGPT Team adheres to our Business Terms and the privacy policies listed on the Enterprise Privacy page under ChatGPT Team FAQ. OpenAI won’t train on your workspace’s data.\\n\\nHow does the pricing work for ChatGPT Team?\\n\\nChatGPT Team is available for 2 or more users. You can purchase this subscription on an annual plan for $25/seat/mo or on a monthly plan priced at $30/seat/mo. Read more in our Managing Billing for ChatGPT Team help article.', 'score': 0.75659186}]\u001b[0m\n",
      "Thought:\u001b[32;1m\u001b[1;3mI have found information about the key features, pricing, and reviews of OpenAI’s ChatGPT Team. Now I need to find similar information about Anthropic’s Claude Pro.\n",
      "Action: TavilySafeSearch\n",
      "Action Input: Anthropic’s Claude Pro key features, pricing, and reviews\u001b[0m\n",
      "Observation: \u001b[36;1m\u001b[1;3m[{'title': 'Claude Pro vs Claude Max : Pricing, Features & Ideal Use ...', 'url': 'https://dev.to/_37bbf0c253c0b3edec531e/claude-pro-vs-claude-max-pricing-features-ideal-use-cases-4plk', 'content': 'Anthropic’s Claude subscription ecosystem now spans from free access to a robust Pro plan and a thoughtful, tiered Max offering. By pricing Claude\\u202fPro at $20\\u202fper month ($17\\u202fwith annual billing) and introducing two levels of Max—$100 for Expanded Usage and $200 for Maximum Flexibility—Anthropic addresses a broad spectrum of users, from occasional creators to enterprises embedding AI into core operations. Compared to competitors, Anthropic’s mid‑range flexibility stands out, filling a gap left by [...] ## What is Claude Pro?\\n\\n### How much does Claude Pro cost?\\n\\nClaude\\u202fPro is Anthropic’s mid‑tier subscription designed for everyday productivity and professional use. It is priced at $20\\u202fper month in the United States if billed monthly, or $17\\u202fper month (i.e., $200\\u202fper year) when billed annually . Internationally, pricing may vary slightly to accommodate local currencies and taxes .\\n\\n### What features are included with Claude Pro? [...] Here is a concise overview of what follows: Anthropic currently offers two paid subscription plans for its Claude AI assistant—Claude\\u202fPro and Claude\\u202fMax. Claude\\u202fPro provides enhanced access to Claude’s capabilities for $20\\u202fper month (or $17\\u202fper month when billed annually), delivering approximately five times the usage of the free tier. Claude\\u202fMax comprises two tiers—Expanded Usage at $100\\u202fper month (5× Pro’s limits) and Maximum Flexibility at $200\\u202fper month (20× Pro’s limits)—designed for', 'score': 0.8524574}, {'title': 'How much does Claude Pro cost?', 'url': 'https://www.cometapi.com/how-much-does-claude-pro-cost/', 'content': 'In summary, Claude Pro stands at $20 per month (or $17 under annual billing) and serves as a professional-grade AI assistant with enhanced limits, faster responses, and priority access to new features . Whether comparing against free tiers, competing services like ChatGPT Plus, or API-based billing, Claude Pro offers a predictable and competitive price point for users who rely on AI as a central component of their daily workflow. As Anthropic continues to refine its offerings—with innovations [...] Before diving into the details, here’s a concise overview of the cost and value proposition of Claude Pro. Anthropic offers Claude Pro at $20 per month when billed monthly, with a discounted rate of $17 per month if you opt for an annual subscription ($200 billed upfront) . Pricing may vary slightly by region due to exchange rates and tax policies . Compared to the free tier, Claude Pro unlocks higher daily message limits, faster response times, and early access to new model updates such as [...] ### What are the monthly and annual pricing options?\\n\\nThe official Anthropic pricing page lists Claude Pro at \\\\$17 per month when billed annually (totaling \\\\$200 per year) or \\\\$20 per month if paid month‑to‑month. This discounted annual rate equates to roughly \\\\$16.67 per month, rewarding users who commit for a full year.\\n\\n## Why Choose Claude Pro Over the Free Tier?\\n\\n### What Additional Features Are Included?', 'score': 0.8232293}, {'title': 'AI Product Review for Solo Practitioners and Small Firms: Claude ...', 'url': 'https://nvbar.org/wp-content/uploads/Claude-AI-Review_Final.pdf', 'content': 'and Small Firms: Claude Pro, by Anthropic - Page 6 of 6 Summary Claude Pro offers solo practitioners and small ﬁrms a useful AI tool for routine tasks like document summarization and drafting, receiving a satisfactory score of 31.62 out of 50 across ten categories. Its main strengths lie in cost-effectiveness, a positive market reputation, and a solid commitment to bias and fairness. Claude Pro provides reasonable value at a low monthly cost and has garnered positive feedback for its ease of [...] GDPR, CCPA, the EU AI Act, and China’s Personal Information Protection 1 Claude offers Pro for $20/month and Team for $25 per month. Team includes all of the functionalities of Pro as well as the following things that are relevant to this review: the ability to share and discover chats from teammates. AI Product Review for Solo Practitioners and Small Firms: Claude Pro, by Anthropic - Page 5 of 6 Law (PIPL)—may not be fully addressed. Anthropic has shown commitment to regulatory engagement by [...] 4/5 Claude Pro scores a 4 out of 5 for user feedback and market reputation, reﬂecting a positive standing within the AI community and favorable user reviews. Attorneys and general users alike often commend Claude Pro for its intuitive features and reliable performance in everyday tasks, contributing to a solid, if not leading, market presence. While Anthropic’s Claude Pro has gained traction, particularly for its ethical approach to AI and robust foundational support, it still trails behind', 'score': 0.77589405}, {'title': 'Introducing Claude Pro', 'url': 'https://www.anthropic.com/news/claude-pro', 'content': 'With Claude Pro, subscribers can now gain 5x more usage of our latest model, Claude 2, for a monthly price of $20 (US) or £18 (UK).  \\n  \\nThis means you can level up your productivity across a range of tasks, including summarizing research papers, querying contracts, and iterating further on coding projects—like this recent demo of building an interactive map.', 'score': 0.76659125}, {'title': 'Pricing', 'url': 'https://www.anthropic.com/pricing', 'content': '# Pricing Pricing\\n\\nIndividualTeam & EnterpriseAPI\\n\\n ## Free\\n\\n  Try Claude\\n\\n  $0\\n\\n  Free for everyone\\n\\n  Try Claude\\n\\n  Try Claude\\n\\n  + Chat on web, iOS, Android, and on your desktop\\n  + Generate code and visualize data\\n  + Write, edit, and create content\\n  + Analyze text and images\\n  + Ability to search the web\\n  + Unlock more from Claude with desktop extensions\\n ## Pro\\n\\n  For everyday productivity\\n\\n  $17\\n\\n  Per month with annual subscription discount; $200 billed up front. $20 if billed monthly. [...] Per person billed monthly\\n\\n  Try Claude\\n\\n  Try Claude\\n\\n  ### Everything in Pro, plus:\\n\\n  + Choose 5x or 20x more usage per session than Pro\\\\\\n  + Higher output limits for all tasks\\n  + Early access to advanced Claude features\\n  + Priority access at high traffic times\\n\\nAdditional usage limits apply. Prices shown do not include applicable tax.\\n\\n ### Team\\n\\n  For collaboration across organizations\\n\\n  Create a Team plan\\n\\n  Create a Team plan\\n\\n  Standard seat\\n\\n  $25\\n\\n  Chat, projects, and more', 'score': 0.7570233}]\u001b[0m\n",
      "Thought:\u001b[32;1m\u001b[1;3mI have found information about the key features, pricing, and reviews of Anthropic’s Claude Pro. Now I can compare these two AI models.\n",
      "Final Answer: \n",
      "# OpenAI’s ChatGPT Team vs Anthropic’s Claude Pro\n",
      "\n",
      "## Key Features\n",
      "\n",
      "### OpenAI’s ChatGPT Team\n",
      "- Shared team workspace\n",
      "- Admin controls\n",
      "- Data training opt-out\n",
      "- Custom GPTs creation and sharing\n",
      "- Early access to new features\n",
      "- Higher message limits on powerful models like GPT-4\n",
      "- Access to creative tools like DALL·E 3\n",
      "\n",
      "### Anthropic’s Claude Pro\n",
      "- Enhanced access to Claude’s capabilities\n",
      "- Higher daily message limits\n",
      "- Faster response times\n",
      "- Early access to new model updates\n",
      "\n",
      "## Pricing\n",
      "\n",
      "### OpenAI’s ChatGPT Team\n",
      "- $30/user/month (monthly) or $25/user/month (annually)\n",
      "\n",
      "### Anthropic’s Claude Pro\n",
      "- $20 per month if billed monthly, or $17 per month (i.e., $200 per year) when billed annually\n",
      "\n",
      "## Reviews\n",
      "\n",
      "### OpenAI’s ChatGPT Team\n",
      "- Range of features: 8/10\n",
      "- User interface and usability: 9/10\n",
      "- Security measures: 5/10\n",
      "- Integrations: 8/10\n",
      "- Team collaboration: 6/10\n",
      "- Pricing model: 9/10\n",
      "\n",
      "### Anthropic’s Claude Pro\n",
      "- Claude Pro scores a 4 out of 5 for user feedback and market reputation, reflecting a positive standing within the AI community and favorable user reviews.\u001b[0m\n",
      "\n",
      "\u001b[1m> Finished chain.\u001b[0m\n"
     ]
    }
   ],
   "source": [
    "# Your prompt here\n",
    "prompt_3 = \"Compare the key features, pricing, and reviews of OpenAI’s ChatGPT Team and Anthropic’s Claude Pro. The output should be a structured response in Markdown\"\n",
    "\n",
    "# Run it\n",
    "response_3 = agent.run(prompt_3)\n"
   ]
  },
  {
   "cell_type": "code",
   "execution_count": 8,
   "id": "b8bf9711",
   "metadata": {},
   "outputs": [
    {
     "data": {
      "text/markdown": [
       "# OpenAI’s ChatGPT Team vs Anthropic’s Claude Pro\n",
       "\n",
       "## Key Features\n",
       "\n",
       "### OpenAI’s ChatGPT Team\n",
       "- Shared team workspace\n",
       "- Admin controls\n",
       "- Data training opt-out\n",
       "- Custom GPTs creation and sharing\n",
       "- Early access to new features\n",
       "- Higher message limits on powerful models like GPT-4\n",
       "- Access to creative tools like DALL·E 3\n",
       "\n",
       "### Anthropic’s Claude Pro\n",
       "- Enhanced access to Claude’s capabilities\n",
       "- Higher daily message limits\n",
       "- Faster response times\n",
       "- Early access to new model updates\n",
       "\n",
       "## Pricing\n",
       "\n",
       "### OpenAI’s ChatGPT Team\n",
       "- $30/user/month (monthly) or $25/user/month (annually)\n",
       "\n",
       "### Anthropic’s Claude Pro\n",
       "- $20 per month if billed monthly, or $17 per month (i.e., $200 per year) when billed annually\n",
       "\n",
       "## Reviews\n",
       "\n",
       "### OpenAI’s ChatGPT Team\n",
       "- Range of features: 8/10\n",
       "- User interface and usability: 9/10\n",
       "- Security measures: 5/10\n",
       "- Integrations: 8/10\n",
       "- Team collaboration: 6/10\n",
       "- Pricing model: 9/10\n",
       "\n",
       "### Anthropic’s Claude Pro\n",
       "- Claude Pro scores a 4 out of 5 for user feedback and market reputation, reflecting a positive standing within the AI community and favorable user reviews."
      ],
      "text/plain": [
       "<IPython.core.display.Markdown object>"
      ]
     },
     "metadata": {},
     "output_type": "display_data"
    }
   ],
   "source": [
    "display(Markdown(response_3))\n"
   ]
  },
  {
   "cell_type": "markdown",
   "id": "4f40dbe3",
   "metadata": {},
   "source": [
    "## Bonus Task: Propose and Implement Your Own Use Case\n",
    "\n",
    "As a final challenge, think of a real-world scenario where an AI agent could provide value using web search or external tools.\n"
   ]
  }
 ],
 "metadata": {
  "kernelspec": {
   "display_name": "genai",
   "language": "python",
   "name": "python3"
  },
  "language_info": {
   "codemirror_mode": {
    "name": "ipython",
    "version": 3
   },
   "file_extension": ".py",
   "mimetype": "text/x-python",
   "name": "python",
   "nbconvert_exporter": "python",
   "pygments_lexer": "ipython3",
   "version": "3.11.13"
  }
 },
 "nbformat": 4,
 "nbformat_minor": 5
}
